{
 "cells": [
  {
   "cell_type": "markdown",
   "id": "3e07e6b9",
   "metadata": {},
   "source": [
    "# Problem Set #2"
   ]
  },
  {
   "cell_type": "markdown",
   "id": "8667c5b6",
   "metadata": {},
   "source": [
    "Problem 1\n"
   ]
  },
  {
   "cell_type": "code",
   "execution_count": 1,
   "id": "fd7e037d",
   "metadata": {},
   "outputs": [],
   "source": [
    "L = [1,2,3,4,5,6,7,8,9,10]"
   ]
  },
  {
   "cell_type": "code",
   "execution_count": 2,
   "id": "1a30d59d",
   "metadata": {},
   "outputs": [
    {
     "name": "stdout",
     "output_type": "stream",
     "text": [
      "10 1 5.5\n"
     ]
    }
   ],
   "source": [
    "print(max(L),min(L),sum(L)/len(L))"
   ]
  },
  {
   "cell_type": "markdown",
   "id": "e817a36f",
   "metadata": {},
   "source": [
    "Problem 2"
   ]
  },
  {
   "cell_type": "markdown",
   "id": "2beb3aec",
   "metadata": {},
   "source": [
    "Int ##Immutable"
   ]
  },
  {
   "cell_type": "code",
   "execution_count": 75,
   "id": "32c1bdf4",
   "metadata": {},
   "outputs": [],
   "source": [
    "my_num = 911"
   ]
  },
  {
   "cell_type": "code",
   "execution_count": 76,
   "id": "31fa7e07",
   "metadata": {},
   "outputs": [
    {
     "name": "stdout",
     "output_type": "stream",
     "text": [
      "911\n"
     ]
    }
   ],
   "source": [
    "print(my_num)"
   ]
  },
  {
   "cell_type": "code",
   "execution_count": 79,
   "id": "fefa50af",
   "metadata": {},
   "outputs": [],
   "source": [
    "your_num = my_num"
   ]
  },
  {
   "cell_type": "code",
   "execution_count": 80,
   "id": "5602c629",
   "metadata": {},
   "outputs": [
    {
     "name": "stdout",
     "output_type": "stream",
     "text": [
      "911\n"
     ]
    }
   ],
   "source": [
    "print(your_num)"
   ]
  },
  {
   "cell_type": "code",
   "execution_count": 81,
   "id": "cd8ded54",
   "metadata": {},
   "outputs": [
    {
     "name": "stdout",
     "output_type": "stream",
     "text": [
      "119\n"
     ]
    }
   ],
   "source": [
    "your_num= 119\n",
    "print(your_num)"
   ]
  },
  {
   "cell_type": "code",
   "execution_count": 82,
   "id": "3493b8f6",
   "metadata": {
    "scrolled": true
   },
   "outputs": [
    {
     "data": {
      "text/plain": [
       "False"
      ]
     },
     "execution_count": 82,
     "metadata": {},
     "output_type": "execute_result"
    }
   ],
   "source": [
    "my_num==your_num"
   ]
  },
  {
   "cell_type": "markdown",
   "id": "1c65130f",
   "metadata": {},
   "source": [
    "str ##Immutable"
   ]
  },
  {
   "cell_type": "code",
   "execution_count": 64,
   "id": "784f1704",
   "metadata": {},
   "outputs": [],
   "source": [
    "my_str= str('boiled eggs')"
   ]
  },
  {
   "cell_type": "code",
   "execution_count": 65,
   "id": "bdfa3309",
   "metadata": {},
   "outputs": [
    {
     "name": "stdout",
     "output_type": "stream",
     "text": [
      "boiled eggs\n"
     ]
    }
   ],
   "source": [
    "print(my_str)"
   ]
  },
  {
   "cell_type": "code",
   "execution_count": 21,
   "id": "4a964ffd",
   "metadata": {},
   "outputs": [],
   "source": [
    "your_str = my_str"
   ]
  },
  {
   "cell_type": "code",
   "execution_count": 22,
   "id": "fc8528d8",
   "metadata": {},
   "outputs": [],
   "source": [
    "your_str = ('Fried eggs')"
   ]
  },
  {
   "cell_type": "code",
   "execution_count": 66,
   "id": "b5920e33",
   "metadata": {},
   "outputs": [
    {
     "data": {
      "text/plain": [
       "False"
      ]
     },
     "execution_count": 66,
     "metadata": {},
     "output_type": "execute_result"
    }
   ],
   "source": [
    "my_str==your_str"
   ]
  },
  {
   "cell_type": "markdown",
   "id": "ef6d342f",
   "metadata": {},
   "source": [
    "list ##Mutable"
   ]
  },
  {
   "cell_type": "code",
   "execution_count": 67,
   "id": "aef12a61",
   "metadata": {},
   "outputs": [],
   "source": [
    "my_list =list('jaewoolee')"
   ]
  },
  {
   "cell_type": "code",
   "execution_count": 68,
   "id": "64f323c8",
   "metadata": {},
   "outputs": [
    {
     "name": "stdout",
     "output_type": "stream",
     "text": [
      "['j', 'a', 'e', 'w', 'o', 'o', 'l', 'e', 'e']\n"
     ]
    }
   ],
   "source": [
    "print(my_list)"
   ]
  },
  {
   "cell_type": "code",
   "execution_count": 84,
   "id": "1e93888f",
   "metadata": {},
   "outputs": [
    {
     "name": "stdout",
     "output_type": "stream",
     "text": [
      "['j', 'a', 'e', 'w', 'o', 'o', 'l', 'e', 'e']\n"
     ]
    }
   ],
   "source": [
    "your_list =my_list\n",
    "print(your_list)"
   ]
  },
  {
   "cell_type": "code",
   "execution_count": 88,
   "id": "7809b3f4",
   "metadata": {},
   "outputs": [
    {
     "name": "stdout",
     "output_type": "stream",
     "text": [
      "['b', 'a', 'e', 'w', 'o', 'o', 'l', 'e', 'e']\n"
     ]
    }
   ],
   "source": [
    "your_list[0] = 'b'\n",
    "print(my_list)"
   ]
  },
  {
   "cell_type": "code",
   "execution_count": 87,
   "id": "6f6e8e2e",
   "metadata": {},
   "outputs": [
    {
     "data": {
      "text/plain": [
       "True"
      ]
     },
     "execution_count": 87,
     "metadata": {},
     "output_type": "execute_result"
    }
   ],
   "source": [
    "my_list==your_list"
   ]
  },
  {
   "cell_type": "markdown",
   "id": "a50ca71a",
   "metadata": {},
   "source": [
    "tuple ##Immutable"
   ]
  },
  {
   "cell_type": "code",
   "execution_count": 100,
   "id": "e042edb5",
   "metadata": {},
   "outputs": [
    {
     "name": "stdout",
     "output_type": "stream",
     "text": [
      "('O', 'p', 'e', 'r', 'a', 't', 'i', 'o', 'n', 's')\n"
     ]
    }
   ],
   "source": [
    "my_tuple =tuple('Operations')\n",
    "print(my_tuple)"
   ]
  },
  {
   "cell_type": "code",
   "execution_count": 101,
   "id": "fc6bd86b",
   "metadata": {},
   "outputs": [
    {
     "name": "stdout",
     "output_type": "stream",
     "text": [
      "('O', 'p', 'e', 'r', 'a', 't', 'i', 'o', 'n', 's')\n"
     ]
    }
   ],
   "source": [
    "your_tuple = my_tuple\n",
    "print(your_tuple)"
   ]
  },
  {
   "cell_type": "code",
   "execution_count": 105,
   "id": "8c480e28",
   "metadata": {},
   "outputs": [
    {
     "name": "stdout",
     "output_type": "stream",
     "text": [
      "('O', 'p', 'e', 'r', 'a', 't', 'i', 'o', 'n', 's', 1, 1)\n"
     ]
    }
   ],
   "source": [
    "your_tuple += (1,)\n",
    "print(your_tuple)"
   ]
  },
  {
   "cell_type": "code",
   "execution_count": 106,
   "id": "87bac690",
   "metadata": {},
   "outputs": [
    {
     "data": {
      "text/plain": [
       "False"
      ]
     },
     "execution_count": 106,
     "metadata": {},
     "output_type": "execute_result"
    }
   ],
   "source": [
    "your_tuple == my_tuple"
   ]
  },
  {
   "cell_type": "markdown",
   "id": "9a36b67c",
   "metadata": {},
   "source": [
    "set ##Mutable"
   ]
  },
  {
   "cell_type": "code",
   "execution_count": 108,
   "id": "3c321faa",
   "metadata": {},
   "outputs": [],
   "source": [
    "my_set ={1, 2, 3, 4, 2, 5}"
   ]
  },
  {
   "cell_type": "code",
   "execution_count": 109,
   "id": "2f355dbc",
   "metadata": {},
   "outputs": [],
   "source": [
    "your_set = my_set"
   ]
  },
  {
   "cell_type": "code",
   "execution_count": 116,
   "id": "ef356d70",
   "metadata": {},
   "outputs": [],
   "source": [
    "your_set.add(50)"
   ]
  },
  {
   "cell_type": "code",
   "execution_count": 117,
   "id": "0016342e",
   "metadata": {},
   "outputs": [
    {
     "data": {
      "text/plain": [
       "True"
      ]
     },
     "execution_count": 117,
     "metadata": {},
     "output_type": "execute_result"
    }
   ],
   "source": [
    "your_set == my_set"
   ]
  },
  {
   "cell_type": "markdown",
   "id": "a0f0636e",
   "metadata": {},
   "source": [
    "I conclude that 'set' and 'list' are mutable while 'int' and 'str' are immutable. "
   ]
  },
  {
   "cell_type": "code",
   "execution_count": null,
   "id": "ac79a102",
   "metadata": {},
   "outputs": [],
   "source": []
  },
  {
   "cell_type": "code",
   "execution_count": null,
   "id": "c28c823d",
   "metadata": {},
   "outputs": [],
   "source": []
  },
  {
   "cell_type": "code",
   "execution_count": null,
   "id": "c848e52e",
   "metadata": {},
   "outputs": [],
   "source": []
  },
  {
   "cell_type": "code",
   "execution_count": null,
   "id": "2bfea7dc",
   "metadata": {},
   "outputs": [],
   "source": []
  },
  {
   "cell_type": "code",
   "execution_count": null,
   "id": "fced91e1",
   "metadata": {},
   "outputs": [],
   "source": []
  },
  {
   "cell_type": "code",
   "execution_count": null,
   "id": "aa8863c7",
   "metadata": {},
   "outputs": [],
   "source": []
  },
  {
   "cell_type": "code",
   "execution_count": null,
   "id": "093306b6",
   "metadata": {},
   "outputs": [],
   "source": []
  },
  {
   "cell_type": "code",
   "execution_count": null,
   "id": "0a3ac6a7",
   "metadata": {},
   "outputs": [],
   "source": []
  },
  {
   "cell_type": "code",
   "execution_count": null,
   "id": "73fe028a",
   "metadata": {},
   "outputs": [],
   "source": []
  },
  {
   "cell_type": "code",
   "execution_count": null,
   "id": "d34c260c",
   "metadata": {},
   "outputs": [],
   "source": []
  }
 ],
 "metadata": {
  "kernelspec": {
   "display_name": "Python 3",
   "language": "python",
   "name": "python3"
  },
  "language_info": {
   "codemirror_mode": {
    "name": "ipython",
    "version": 3
   },
   "file_extension": ".py",
   "mimetype": "text/x-python",
   "name": "python",
   "nbconvert_exporter": "python",
   "pygments_lexer": "ipython3",
   "version": "3.8.8"
  }
 },
 "nbformat": 4,
 "nbformat_minor": 5
}
