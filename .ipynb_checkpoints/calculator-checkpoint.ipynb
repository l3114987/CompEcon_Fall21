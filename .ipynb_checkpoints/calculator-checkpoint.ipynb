{
 "cells": [
  {
   "cell_type": "code",
   "execution_count": 1,
   "id": "5271ca70",
   "metadata": {},
   "outputs": [],
   "source": [
    "def simplesum(val1, val2):\n",
    "    the_sum = val1 + val2\n",
    "    return the_sum"
   ]
  },
  {
   "cell_type": "code",
   "execution_count": 4,
   "id": "a73d0056",
   "metadata": {},
   "outputs": [],
   "source": [
    "def produc(val1, val2):\n",
    "    the_pro=val1*val2\n",
    "    return the_pro"
   ]
  },
  {
   "cell_type": "code",
   "execution_count": null,
   "id": "016c84b0",
   "metadata": {},
   "outputs": [],
   "source": [
    "import math"
   ]
  }
 ],
 "metadata": {
  "kernelspec": {
   "display_name": "Python 3",
   "language": "python",
   "name": "python3"
  },
  "language_info": {
   "codemirror_mode": {
    "name": "ipython",
    "version": 3
   },
   "file_extension": ".py",
   "mimetype": "text/x-python",
   "name": "python",
   "nbconvert_exporter": "python",
   "pygments_lexer": "ipython3",
   "version": "3.8.8"
  }
 },
 "nbformat": 4,
 "nbformat_minor": 5
}
