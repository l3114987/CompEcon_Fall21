{
 "cells": [
  {
   "cell_type": "markdown",
   "source": [
    "# Problem Set #2"
   ],
   "metadata": {}
  },
  {
   "cell_type": "markdown",
   "source": [
    "####Part 1"
   ],
   "metadata": {}
  },
  {
   "cell_type": "markdown",
   "source": [
    "###Problem 1\n"
   ],
   "metadata": {}
  },
  {
   "cell_type": "code",
   "execution_count": 52,
   "source": [
    "L = [1,2,3,4,5,6,7,8,9,10]"
   ],
   "outputs": [],
   "metadata": {}
  },
  {
   "cell_type": "code",
   "execution_count": 53,
   "source": [
    "print(max(L),min(L),sum(L)/len(L))"
   ],
   "outputs": [
    {
     "output_type": "stream",
     "name": "stdout",
     "text": [
      "10 1 5.5\n"
     ]
    }
   ],
   "metadata": {}
  },
  {
   "cell_type": "markdown",
   "source": [
    "###Problem 2"
   ],
   "metadata": {}
  },
  {
   "cell_type": "markdown",
   "source": [
    "Int ##Immutable"
   ],
   "metadata": {}
  },
  {
   "cell_type": "code",
   "execution_count": 54,
   "source": [
    "my_num = 911"
   ],
   "outputs": [],
   "metadata": {}
  },
  {
   "cell_type": "code",
   "execution_count": 55,
   "source": [
    "print(my_num)"
   ],
   "outputs": [
    {
     "output_type": "stream",
     "name": "stdout",
     "text": [
      "911\n"
     ]
    }
   ],
   "metadata": {}
  },
  {
   "cell_type": "code",
   "execution_count": 56,
   "source": [
    "your_num = my_num"
   ],
   "outputs": [],
   "metadata": {}
  },
  {
   "cell_type": "code",
   "execution_count": 57,
   "source": [
    "print(your_num)"
   ],
   "outputs": [
    {
     "output_type": "stream",
     "name": "stdout",
     "text": [
      "911\n"
     ]
    }
   ],
   "metadata": {}
  },
  {
   "cell_type": "code",
   "execution_count": 58,
   "source": [
    "your_num= 119\r\n",
    "print(your_num)"
   ],
   "outputs": [
    {
     "output_type": "stream",
     "name": "stdout",
     "text": [
      "119\n"
     ]
    }
   ],
   "metadata": {}
  },
  {
   "cell_type": "code",
   "execution_count": 59,
   "source": [
    "my_num==your_num"
   ],
   "outputs": [
    {
     "output_type": "execute_result",
     "data": {
      "text/plain": [
       "False"
      ]
     },
     "metadata": {},
     "execution_count": 59
    }
   ],
   "metadata": {
    "scrolled": true
   }
  },
  {
   "cell_type": "markdown",
   "source": [
    "str ##Immutable"
   ],
   "metadata": {}
  },
  {
   "cell_type": "code",
   "execution_count": 60,
   "source": [
    "my_str= str('boiled eggs')"
   ],
   "outputs": [],
   "metadata": {}
  },
  {
   "cell_type": "code",
   "execution_count": 61,
   "source": [
    "print(my_str)"
   ],
   "outputs": [
    {
     "output_type": "stream",
     "name": "stdout",
     "text": [
      "boiled eggs\n"
     ]
    }
   ],
   "metadata": {}
  },
  {
   "cell_type": "code",
   "execution_count": 62,
   "source": [
    "your_str = my_str"
   ],
   "outputs": [],
   "metadata": {}
  },
  {
   "cell_type": "code",
   "execution_count": 63,
   "source": [
    "your_str = ('Fried eggs')"
   ],
   "outputs": [],
   "metadata": {}
  },
  {
   "cell_type": "code",
   "execution_count": 64,
   "source": [
    "my_str==your_str"
   ],
   "outputs": [
    {
     "output_type": "execute_result",
     "data": {
      "text/plain": [
       "False"
      ]
     },
     "metadata": {},
     "execution_count": 64
    }
   ],
   "metadata": {}
  },
  {
   "cell_type": "markdown",
   "source": [
    "list ##Mutable"
   ],
   "metadata": {}
  },
  {
   "cell_type": "code",
   "execution_count": 65,
   "source": [
    "my_list =list('jaewoolee')"
   ],
   "outputs": [],
   "metadata": {}
  },
  {
   "cell_type": "code",
   "execution_count": 66,
   "source": [
    "print(my_list)"
   ],
   "outputs": [
    {
     "output_type": "stream",
     "name": "stdout",
     "text": [
      "['j', 'a', 'e', 'w', 'o', 'o', 'l', 'e', 'e']\n"
     ]
    }
   ],
   "metadata": {}
  },
  {
   "cell_type": "code",
   "execution_count": 67,
   "source": [
    "your_list =my_list\r\n",
    "print(your_list)"
   ],
   "outputs": [
    {
     "output_type": "stream",
     "name": "stdout",
     "text": [
      "['j', 'a', 'e', 'w', 'o', 'o', 'l', 'e', 'e']\n"
     ]
    }
   ],
   "metadata": {}
  },
  {
   "cell_type": "code",
   "execution_count": 68,
   "source": [
    "your_list[0] = 'b'\r\n",
    "print(my_list)"
   ],
   "outputs": [
    {
     "output_type": "stream",
     "name": "stdout",
     "text": [
      "['b', 'a', 'e', 'w', 'o', 'o', 'l', 'e', 'e']\n"
     ]
    }
   ],
   "metadata": {}
  },
  {
   "cell_type": "code",
   "execution_count": 69,
   "source": [
    "my_list==your_list"
   ],
   "outputs": [
    {
     "output_type": "execute_result",
     "data": {
      "text/plain": [
       "True"
      ]
     },
     "metadata": {},
     "execution_count": 69
    }
   ],
   "metadata": {}
  },
  {
   "cell_type": "markdown",
   "source": [
    "tuple ##Immutable"
   ],
   "metadata": {}
  },
  {
   "cell_type": "code",
   "execution_count": 70,
   "source": [
    "my_tuple =tuple('Operations')\r\n",
    "print(my_tuple)"
   ],
   "outputs": [
    {
     "output_type": "stream",
     "name": "stdout",
     "text": [
      "('O', 'p', 'e', 'r', 'a', 't', 'i', 'o', 'n', 's')\n"
     ]
    }
   ],
   "metadata": {}
  },
  {
   "cell_type": "code",
   "execution_count": 71,
   "source": [
    "your_tuple = my_tuple\r\n",
    "print(your_tuple)"
   ],
   "outputs": [
    {
     "output_type": "stream",
     "name": "stdout",
     "text": [
      "('O', 'p', 'e', 'r', 'a', 't', 'i', 'o', 'n', 's')\n"
     ]
    }
   ],
   "metadata": {}
  },
  {
   "cell_type": "code",
   "execution_count": 72,
   "source": [
    "your_tuple += (1,)\r\n",
    "print(your_tuple)"
   ],
   "outputs": [
    {
     "output_type": "stream",
     "name": "stdout",
     "text": [
      "('O', 'p', 'e', 'r', 'a', 't', 'i', 'o', 'n', 's', 1)\n"
     ]
    }
   ],
   "metadata": {}
  },
  {
   "cell_type": "code",
   "execution_count": 73,
   "source": [
    "your_tuple == my_tuple"
   ],
   "outputs": [
    {
     "output_type": "execute_result",
     "data": {
      "text/plain": [
       "False"
      ]
     },
     "metadata": {},
     "execution_count": 73
    }
   ],
   "metadata": {}
  },
  {
   "cell_type": "markdown",
   "source": [
    "set ##Mutable"
   ],
   "metadata": {}
  },
  {
   "cell_type": "code",
   "execution_count": 74,
   "source": [
    "my_set ={1, 2, 3, 4, 2, 5}"
   ],
   "outputs": [],
   "metadata": {}
  },
  {
   "cell_type": "code",
   "execution_count": 75,
   "source": [
    "your_set = my_set"
   ],
   "outputs": [],
   "metadata": {}
  },
  {
   "cell_type": "code",
   "execution_count": 76,
   "source": [
    "your_set.add(50)"
   ],
   "outputs": [],
   "metadata": {}
  },
  {
   "cell_type": "code",
   "execution_count": 77,
   "source": [
    "your_set == my_set"
   ],
   "outputs": [
    {
     "output_type": "execute_result",
     "data": {
      "text/plain": [
       "True"
      ]
     },
     "metadata": {},
     "execution_count": 77
    }
   ],
   "metadata": {}
  },
  {
   "cell_type": "markdown",
   "source": [
    "I conclude that 'set' and 'list' are mutable while 'int' and 'str' are immutable. "
   ],
   "metadata": {}
  },
  {
   "cell_type": "markdown",
   "source": [],
   "metadata": {}
  },
  {
   "cell_type": "markdown",
   "source": [
    "###Problem 3"
   ],
   "metadata": {}
  },
  {
   "cell_type": "markdown",
   "source": [
    "##calculator.py"
   ],
   "metadata": {}
  },
  {
   "cell_type": "code",
   "execution_count": 78,
   "source": [
    "def simplesum(val1, val2):\r\n",
    "    the_sum = val1 + val2\r\n",
    "    return the_sum"
   ],
   "outputs": [],
   "metadata": {}
  },
  {
   "cell_type": "code",
   "execution_count": 79,
   "source": [
    "def produc(val1, val2):\r\n",
    "    the_pro=val1*val2\r\n",
    "    return the_pro"
   ],
   "outputs": [],
   "metadata": {}
  },
  {
   "cell_type": "code",
   "execution_count": 80,
   "source": [
    "import math"
   ],
   "outputs": [],
   "metadata": {}
  },
  {
   "cell_type": "code",
   "execution_count": null,
   "source": [],
   "outputs": [],
   "metadata": {}
  },
  {
   "cell_type": "markdown",
   "source": [
    "##importing module"
   ],
   "metadata": {}
  },
  {
   "cell_type": "code",
   "execution_count": 81,
   "source": [
    "import calculator as ca\r\n",
    "import math"
   ],
   "outputs": [],
   "metadata": {}
  },
  {
   "cell_type": "code",
   "execution_count": 82,
   "source": [
    "def hypo (a,b):\r\n",
    "    hypo=math.sqrt(ca.simplesum(ca.produc(a,a), ca.produc(b,b)))\r\n",
    "    return(hypo)\r\n",
    "    "
   ],
   "outputs": [],
   "metadata": {}
  },
  {
   "cell_type": "code",
   "execution_count": 83,
   "source": [
    "hypo(3,4)"
   ],
   "outputs": [
    {
     "output_type": "execute_result",
     "data": {
      "text/plain": [
       "5.0"
      ]
     },
     "metadata": {},
     "execution_count": 83
    }
   ],
   "metadata": {}
  },
  {
   "cell_type": "code",
   "execution_count": null,
   "source": [],
   "outputs": [],
   "metadata": {}
  },
  {
   "cell_type": "markdown",
   "source": [
    "####Part2"
   ],
   "metadata": {}
  },
  {
   "cell_type": "code",
   "execution_count": 84,
   "source": [
    "import numpy as np\r\n",
    "def MP(a,b):\r\n",
    "    MP=np.dot(a,b)\r\n",
    "    return(MP)"
   ],
   "outputs": [],
   "metadata": {}
  },
  {
   "cell_type": "markdown",
   "source": [
    "###Problem1"
   ],
   "metadata": {}
  },
  {
   "cell_type": "code",
   "execution_count": 85,
   "source": [
    "A=np.array([[3,-1,4],[4,5,6]])\r\n",
    "B=np.array([[2,6,-5,3],[5,-8,9,7],[9,-3,-2,-3]])\r\n",
    "MP(A,B)"
   ],
   "outputs": [
    {
     "output_type": "execute_result",
     "data": {
      "text/plain": [
       "array([[ 37,  14, -32, -10],\n",
       "       [ 87, -34,  13,  29]])"
      ]
     },
     "metadata": {},
     "execution_count": 85
    }
   ],
   "metadata": {}
  },
  {
   "cell_type": "markdown",
   "source": [
    "###Problem2"
   ],
   "metadata": {}
  },
  {
   "cell_type": "code",
   "execution_count": 137,
   "source": [
    "A=np.array([[3,1,4],[1,5,9],[-5,3,1]])"
   ],
   "outputs": [],
   "metadata": {}
  },
  {
   "cell_type": "code",
   "execution_count": 139,
   "source": [
    "TM= -1*np.dot(np.dot(A,A),A)+9*np.dot(A,A)-15*(A)\r\n",
    "print(TM)"
   ],
   "outputs": [
    {
     "output_type": "stream",
     "name": "stdout",
     "text": [
      "[[0 0 0]\n",
      " [0 0 0]\n",
      " [0 0 0]]\n"
     ]
    }
   ],
   "metadata": {}
  },
  {
   "cell_type": "markdown",
   "source": [
    "###Problem 5"
   ],
   "metadata": {}
  },
  {
   "cell_type": "code",
   "execution_count": 112,
   "source": [
    "np.identity((3))"
   ],
   "outputs": [
    {
     "output_type": "execute_result",
     "data": {
      "text/plain": [
       "array([[1., 0., 0.],\n",
       "       [0., 1., 0.],\n",
       "       [0., 0., 1.]])"
      ]
     },
     "metadata": {},
     "execution_count": 112
    }
   ],
   "metadata": {}
  },
  {
   "cell_type": "code",
   "execution_count": 143,
   "source": [
    "A=np.array([[0,2,4],[1,3,5]])\r\n",
    "B=np.array([[3,0,0],[3,3,0],[3,3,3]])\r\n",
    "C=np.array([[-2,0,0],[0,-2,0],[0,0,-2]])\r\n",
    "D=np.zeros((3,3))\r\n",
    "D2=np.zeros((2,2))\r\n",
    "D3=np.zeros((3,2))\r\n",
    "D4=np.zeros((2,3))\r\n",
    "E=np.identity(3)\r\n",
    "F=A.T\r\n",
    "H=np.vstack((D,A,B))\r\n",
    "I=np.vstack((F,D2,D3))\r\n",
    "J=np.vstack((E,D4,C))\r\n",
    "np.column_stack((H,I,J))\r\n"
   ],
   "outputs": [
    {
     "output_type": "execute_result",
     "data": {
      "text/plain": [
       "array([[ 0.,  0.,  0.,  0.,  1.,  1.,  0.,  0.],\n",
       "       [ 0.,  0.,  0.,  2.,  3.,  0.,  1.,  0.],\n",
       "       [ 0.,  0.,  0.,  4.,  5.,  0.,  0.,  1.],\n",
       "       [ 0.,  2.,  4.,  0.,  0.,  0.,  0.,  0.],\n",
       "       [ 1.,  3.,  5.,  0.,  0.,  0.,  0.,  0.],\n",
       "       [ 3.,  0.,  0.,  0.,  0., -2.,  0.,  0.],\n",
       "       [ 3.,  3.,  0.,  0.,  0.,  0., -2.,  0.],\n",
       "       [ 3.,  3.,  3.,  0.,  0.,  0.,  0., -2.]])"
      ]
     },
     "metadata": {},
     "execution_count": 143
    }
   ],
   "metadata": {}
  },
  {
   "cell_type": "markdown",
   "source": [
    "####Part3"
   ],
   "metadata": {}
  },
  {
   "cell_type": "markdown",
   "source": [
    "Problem 1"
   ],
   "metadata": {}
  },
  {
   "cell_type": "code",
   "execution_count": 2,
   "source": [
    "class Backpack:\r\n",
    "    \"\"\"A Backpack object class. Has a name and color, and max_size.\r\n",
    "    Attributes:\r\n",
    "    name (str): the name of the backpack's owner.\r\n",
    "    color (str): the color of the backpack\r\n",
    "    max_size(int): the capacity of the backpack\r\n",
    "    contents (list): the contents of the backpack. \r\n",
    "    \"\"\"\r\n",
    "    def __init__(self, name, color, max_size=5): # This function is the constructor.\r\n",
    "        \"\"\"Set the name, color, max_size and initialize an empty list of contents. \r\n",
    "        \"\"\"\r\n",
    "        self.name = name # Initialize some attributes.\r\n",
    "        self.color = color\r\n",
    "        self.max_size = max_size\r\n",
    "        self.contents =[]\r\n",
    "\r\n",
    "    def put(self,item):\r\n",
    "        \"\"\"Add 'item' to the backback's list of contents if the number of contents is less than max_size. Otherwise, print \"No Room!\" and do not add the item to the list of contents\r\n",
    "        \"\"\"\r\n",
    "        if len(self.contents) < self.max_size:\r\n",
    "            self.contents.append(item)\r\n",
    "        else: print(\"No Room!\")\r\n",
    "    def take(self,item):\r\n",
    "        \"\"\"Remove 'item' from the backpack's list of contents.\"\"\"\r\n",
    "        self.contents.remove(item)\r\n",
    "    def dump(self, item):\r\n",
    "        \"\"\"Empty 'item' from the backpack's list of contents.\"\"\"\r\n",
    "\r\n"
   ],
   "outputs": [],
   "metadata": {}
  },
  {
   "cell_type": "code",
   "execution_count": 159,
   "source": [
    "my_backpack= Backpack(\"Jaewoo\", \"Black\")\r\n",
    "type(my_backpack)\r\n",
    "print(my_backpack.name, my_backpack.color, my_backpack.max_size)\r\n",
    "my_backpack.put(\"iPad Pro\")\r\n",
    "my_backpack.put(\"Laptop\")\r\n",
    "my_backpack.put(\"Jacket\")\r\n",
    "my_backpack.put(\"Monitor\")\r\n",
    "my_backpack.put(\"Bicycle\")\r\n",
    "my_backpack.put(\"car\")\r\n",
    "my_backpack.contents"
   ],
   "outputs": [
    {
     "output_type": "stream",
     "name": "stdout",
     "text": [
      "Jaewoo Black 5\n",
      "No Room!\n"
     ]
    },
    {
     "output_type": "execute_result",
     "data": {
      "text/plain": [
       "['iPad Pro', 'Laptop', 'Jacket', 'Monitor', 'Bicycle']"
      ]
     },
     "metadata": {},
     "execution_count": 159
    }
   ],
   "metadata": {}
  },
  {
   "cell_type": "code",
   "execution_count": 147,
   "source": [
    "def test_backpack():\r\n",
    "    testpack = Backpack(\"Jaewoo\", \"black\")\r\n",
    "    if testpack.name != \"Jaewoo\":\r\n",
    "        print(\"Backpack.name assigned incorrectly\")\r\n",
    "    for item in [\"pencil\", \"pen\", \"paper\", \"computer\"]:\r\n",
    "        testpack.put(item)\r\n",
    "    print(\"Contents:\", testpack.contents)\r\n",
    "    # ..."
   ],
   "outputs": [],
   "metadata": {}
  },
  {
   "cell_type": "markdown",
   "source": [
    "###Problem 2"
   ],
   "metadata": {}
  },
  {
   "cell_type": "code",
   "execution_count": 21,
   "source": [
    "class Jetpack(Backpack):\r\n",
    "    \"\"\"A Jetpack object class. Inherits from the Backpack class.\r\n",
    "    A jetpack is smaller than a backpack and need fuel.\r\n",
    "    \r\n",
    "    Attributes:\r\n",
    "        name (str): the name of the knapsack's owner\r\n",
    "        color (str): the color of the knapsack.\r\n",
    "        max_size (int): the maximum number of items that can fit inside\r\n",
    "        fuel (int): the amount of fuel in the jetpack\r\n",
    "    \"\"\"\r\n",
    "    def __init__(self, name, color, max_size=2, fuel=10):\r\n",
    "        \"\"\"Use the Backpack constructor to initialize the name, color, and max_size attributes. A knapsack only holds 2 item by defualt and contain 10 units of fuel by default.\r\n",
    "        \r\n",
    "        Parameters:\r\n",
    "            name (str):the name of the knapsack's owner.\r\n",
    "            color (str): the color of the knapsack. \r\n",
    "            max_size (int): the maximum number of items that can fit inside.\r\n",
    "            fuel (int): the amount of fuel in the jetpack\r\n",
    "        \"\"\"\r\n",
    "        Backpack.__init__(self, name, color, max_size)\r\n",
    "        self.fuel = fuel\r\n",
    "    def fly(self,fuel):\r\n",
    "        \"\"\"Stop burning the fuel if the user tries to burn more fuel than remains, and print\"Not enough fuel\", and do not decrement the fuel.\"\"\"\r\n",
    "        if self.fuel < fuel:\r\n",
    "            print(\"Not enough fuel\")\r\n",
    "        else:\r\n",
    "            self.fuel = self.fuel - fuel\r\n",
    "    def dump(self, item):\r\n",
    "        \"\"\"Empty 'item' from the jetpack's list of contents.\"\"\"\r\n",
    "    def dump(self, fuel):\r\n",
    "        \"\"\"Empty fuel from the jetpack' tank.\"\"\""
   ],
   "outputs": [],
   "metadata": {}
  },
  {
   "cell_type": "markdown",
   "source": [
    "##Testing class Jetpack "
   ],
   "metadata": {}
  },
  {
   "cell_type": "code",
   "execution_count": 23,
   "source": [
    "my_jetpack= Jetpack(\"Jaewoo\", \"Black\")\r\n",
    "type(my_jetpack)\r\n",
    "print(my_jetpack.name, my_jetpack.color, my_jetpack.max_size, my_jetpack.fuel)\r\n",
    "my_jetpack.put(\"iPad Pro\")\r\n",
    "my_jetpack.put(\"Laptop\")\r\n",
    "my_jetpack.put(\"Jacket\")\r\n",
    "my_jetpack.put(\"Monitor\")\r\n",
    "my_jetpack.put(\"Bicycle\")\r\n",
    "my_jetpack.put(\"car\")\r\n",
    "my_jetpack.contents\r\n",
    "my_jetpack.fly(9)\r\n",
    "my_jetpack.fuel"
   ],
   "outputs": [
    {
     "output_type": "stream",
     "name": "stdout",
     "text": [
      "Jaewoo Black 2 10\n",
      "No Room!\n",
      "No Room!\n",
      "No Room!\n",
      "No Room!\n"
     ]
    },
    {
     "output_type": "execute_result",
     "data": {
      "text/plain": [
       "1"
      ]
     },
     "metadata": {},
     "execution_count": 23
    }
   ],
   "metadata": {}
  }
 ],
 "metadata": {
  "kernelspec": {
   "name": "python3",
   "display_name": "Python 3.8.8 64-bit ('base': conda)"
  },
  "language_info": {
   "codemirror_mode": {
    "name": "ipython",
    "version": 3
   },
   "file_extension": ".py",
   "mimetype": "text/x-python",
   "name": "python",
   "nbconvert_exporter": "python",
   "pygments_lexer": "ipython3",
   "version": "3.8.8"
  },
  "interpreter": {
   "hash": "f1eeabb5af2e68ab5abf5510ec48800633884781780a62218696bd0c7cd26f70"
  }
 },
 "nbformat": 4,
 "nbformat_minor": 5
}