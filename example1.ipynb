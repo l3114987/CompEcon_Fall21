{
 "cells": [
  {
   "cell_type": "code",
   "execution_count": null,
   "id": "e81de72d",
   "metadata": {},
   "outputs": [],
   "source": [
    "data = list(range(4))\n",
    "def display():\n",
    "    print(\"Data\", data)\n",
    "if __name__==\"__main__\":\n",
    "    display()\n",
    "    print(\"This file was executed from the command line or an interpreter.\")\n",
    "else:\n",
    "    print(\"This file was imported.\")"
   ]
  }
 ],
 "metadata": {
  "kernelspec": {
   "display_name": "Python 3",
   "language": "python",
   "name": "python3"
  },
  "language_info": {
   "codemirror_mode": {
    "name": "ipython",
    "version": 3
   },
   "file_extension": ".py",
   "mimetype": "text/x-python",
   "name": "python",
   "nbconvert_exporter": "python",
   "pygments_lexer": "ipython3",
   "version": "3.8.8"
  }
 },
 "nbformat": 4,
 "nbformat_minor": 5
}
